{
 "cells": [
  {
   "cell_type": "code",
   "execution_count": 11,
   "metadata": {},
   "outputs": [],
   "source": [
    "import pandas as pd\n",
    "import matplotlib.pyplot as plt\n",
    "import numpy as np\n"
   ]
  },
  {
   "cell_type": "code",
   "execution_count": 20,
   "metadata": {},
   "outputs": [],
   "source": [
    "census_file = \"../Data_Collection/Census_API/CensusDataFrame.csv\"\n",
    "\n",
    "franklin_file = \"../Data_Collection/FBI_API/FranklinTestData.csv\"\n",
    "\n",
    "census_df = pd.read_csv(census_file)\n",
    "franklin_crime = pd.read_csv(franklin_file)"
   ]
  },
  {
   "cell_type": "code",
   "execution_count": 21,
   "metadata": {},
   "outputs": [
    {
     "data": {
      "text/html": [
       "<div>\n",
       "<style scoped>\n",
       "    .dataframe tbody tr th:only-of-type {\n",
       "        vertical-align: middle;\n",
       "    }\n",
       "\n",
       "    .dataframe tbody tr th {\n",
       "        vertical-align: top;\n",
       "    }\n",
       "\n",
       "    .dataframe thead th {\n",
       "        text-align: right;\n",
       "    }\n",
       "</style>\n",
       "<table border=\"1\" class=\"dataframe\">\n",
       "  <thead>\n",
       "    <tr style=\"text-align: right;\">\n",
       "      <th></th>\n",
       "      <th>Unnamed: 0</th>\n",
       "      <th>County</th>\n",
       "      <th>State</th>\n",
       "      <th>Population</th>\n",
       "      <th>Median Age</th>\n",
       "      <th>Household Income</th>\n",
       "      <th>Per Capita Income</th>\n",
       "      <th>Poverty Count</th>\n",
       "      <th>Poverty Rate</th>\n",
       "      <th>Unemployed Citizens</th>\n",
       "      <th>Men in Law-Enforcement</th>\n",
       "      <th>Women in Law-Enforcement</th>\n",
       "      <th>Law-Enforcement per 1000</th>\n",
       "      <th>Unemployment Rate (%)</th>\n",
       "    </tr>\n",
       "  </thead>\n",
       "  <tbody>\n",
       "    <tr>\n",
       "      <th>0</th>\n",
       "      <td>0</td>\n",
       "      <td>Carroll County</td>\n",
       "      <td>Arkansas</td>\n",
       "      <td>27690.0</td>\n",
       "      <td>44.4</td>\n",
       "      <td>38145.0</td>\n",
       "      <td>20888.0</td>\n",
       "      <td>4789.0</td>\n",
       "      <td>17.295052</td>\n",
       "      <td>739.0</td>\n",
       "      <td>91.0</td>\n",
       "      <td>4.0</td>\n",
       "      <td>3.430841</td>\n",
       "      <td>2.668834</td>\n",
       "    </tr>\n",
       "    <tr>\n",
       "      <th>1</th>\n",
       "      <td>1</td>\n",
       "      <td>Chicot County</td>\n",
       "      <td>Arkansas</td>\n",
       "      <td>11189.0</td>\n",
       "      <td>43.7</td>\n",
       "      <td>29628.0</td>\n",
       "      <td>18853.0</td>\n",
       "      <td>3252.0</td>\n",
       "      <td>29.064260</td>\n",
       "      <td>446.0</td>\n",
       "      <td>131.0</td>\n",
       "      <td>17.0</td>\n",
       "      <td>13.227277</td>\n",
       "      <td>3.986058</td>\n",
       "    </tr>\n",
       "    <tr>\n",
       "      <th>2</th>\n",
       "      <td>2</td>\n",
       "      <td>Clark County</td>\n",
       "      <td>Arkansas</td>\n",
       "      <td>22684.0</td>\n",
       "      <td>33.6</td>\n",
       "      <td>35595.0</td>\n",
       "      <td>19500.0</td>\n",
       "      <td>4762.0</td>\n",
       "      <td>20.992770</td>\n",
       "      <td>858.0</td>\n",
       "      <td>94.0</td>\n",
       "      <td>12.0</td>\n",
       "      <td>4.672897</td>\n",
       "      <td>3.782402</td>\n",
       "    </tr>\n",
       "    <tr>\n",
       "      <th>3</th>\n",
       "      <td>3</td>\n",
       "      <td>Clay County</td>\n",
       "      <td>Arkansas</td>\n",
       "      <td>15202.0</td>\n",
       "      <td>44.0</td>\n",
       "      <td>32404.0</td>\n",
       "      <td>19192.0</td>\n",
       "      <td>3340.0</td>\n",
       "      <td>21.970793</td>\n",
       "      <td>474.0</td>\n",
       "      <td>76.0</td>\n",
       "      <td>0.0</td>\n",
       "      <td>4.999342</td>\n",
       "      <td>3.118011</td>\n",
       "    </tr>\n",
       "    <tr>\n",
       "      <th>4</th>\n",
       "      <td>4</td>\n",
       "      <td>Cleburne County</td>\n",
       "      <td>Arkansas</td>\n",
       "      <td>25587.0</td>\n",
       "      <td>47.9</td>\n",
       "      <td>41717.0</td>\n",
       "      <td>25078.0</td>\n",
       "      <td>3901.0</td>\n",
       "      <td>15.246023</td>\n",
       "      <td>903.0</td>\n",
       "      <td>98.0</td>\n",
       "      <td>9.0</td>\n",
       "      <td>4.181811</td>\n",
       "      <td>3.529136</td>\n",
       "    </tr>\n",
       "  </tbody>\n",
       "</table>\n",
       "</div>"
      ],
      "text/plain": [
       "   Unnamed: 0           County      State  Population  Median Age  \\\n",
       "0           0   Carroll County   Arkansas     27690.0        44.4   \n",
       "1           1    Chicot County   Arkansas     11189.0        43.7   \n",
       "2           2     Clark County   Arkansas     22684.0        33.6   \n",
       "3           3      Clay County   Arkansas     15202.0        44.0   \n",
       "4           4  Cleburne County   Arkansas     25587.0        47.9   \n",
       "\n",
       "   Household Income  Per Capita Income  Poverty Count  Poverty Rate  \\\n",
       "0           38145.0            20888.0         4789.0     17.295052   \n",
       "1           29628.0            18853.0         3252.0     29.064260   \n",
       "2           35595.0            19500.0         4762.0     20.992770   \n",
       "3           32404.0            19192.0         3340.0     21.970793   \n",
       "4           41717.0            25078.0         3901.0     15.246023   \n",
       "\n",
       "   Unemployed Citizens  Men in Law-Enforcement  Women in Law-Enforcement  \\\n",
       "0                739.0                    91.0                       4.0   \n",
       "1                446.0                   131.0                      17.0   \n",
       "2                858.0                    94.0                      12.0   \n",
       "3                474.0                    76.0                       0.0   \n",
       "4                903.0                    98.0                       9.0   \n",
       "\n",
       "   Law-Enforcement per 1000  Unemployment Rate (%)  \n",
       "0                  3.430841               2.668834  \n",
       "1                 13.227277               3.986058  \n",
       "2                  4.672897               3.782402  \n",
       "3                  4.999342               3.118011  \n",
       "4                  4.181811               3.529136  "
      ]
     },
     "execution_count": 21,
     "metadata": {},
     "output_type": "execute_result"
    }
   ],
   "source": [
    "census_df.head()"
   ]
  },
  {
   "cell_type": "code",
   "execution_count": 14,
   "metadata": {},
   "outputs": [
    {
     "data": {
      "text/html": [
       "<div>\n",
       "<style scoped>\n",
       "    .dataframe tbody tr th:only-of-type {\n",
       "        vertical-align: middle;\n",
       "    }\n",
       "\n",
       "    .dataframe tbody tr th {\n",
       "        vertical-align: top;\n",
       "    }\n",
       "\n",
       "    .dataframe thead th {\n",
       "        text-align: right;\n",
       "    }\n",
       "</style>\n",
       "<table border=\"1\" class=\"dataframe\">\n",
       "  <thead>\n",
       "    <tr style=\"text-align: right;\">\n",
       "      <th></th>\n",
       "      <th>County</th>\n",
       "      <th>Unnamed: 0</th>\n",
       "      <th>Peace Officer Count</th>\n",
       "      <th>Total Crimes</th>\n",
       "      <th>Crimes Cleared</th>\n",
       "    </tr>\n",
       "  </thead>\n",
       "  <tbody>\n",
       "    <tr>\n",
       "      <th>0</th>\n",
       "      <td>FRANKLIN</td>\n",
       "      <td>36</td>\n",
       "      <td>102</td>\n",
       "      <td>1261</td>\n",
       "      <td>0</td>\n",
       "    </tr>\n",
       "  </tbody>\n",
       "</table>\n",
       "</div>"
      ],
      "text/plain": [
       "     County  Unnamed: 0  Peace Officer Count  Total Crimes  Crimes Cleared\n",
       "0  FRANKLIN          36                  102          1261               0"
      ]
     },
     "execution_count": 14,
     "metadata": {},
     "output_type": "execute_result"
    }
   ],
   "source": [
    "franklin_crime"
   ]
  },
  {
   "cell_type": "code",
   "execution_count": 28,
   "metadata": {},
   "outputs": [
    {
     "data": {
      "text/plain": [
       "Unnamed: 0                              622\n",
       "County                      Franklin County\n",
       "State                              Illinois\n",
       "Population                            39503\n",
       "Median Age                             41.9\n",
       "Household Income                      39507\n",
       "Per Capita Income                     22119\n",
       "Poverty Count                          7440\n",
       "Poverty Rate                         18.834\n",
       "Unemployed Citizens                    1861\n",
       "Men in Law-Enforcement                  285\n",
       "Women in Law-Enforcement                 15\n",
       "Law-Enforcement per 1000            7.59436\n",
       "Unemployment Rate (%)               4.71103\n",
       "Name: 622, dtype: object"
      ]
     },
     "execution_count": 28,
     "metadata": {},
     "output_type": "execute_result"
    }
   ],
   "source": [
    "# franklin = census_df[census_df[\"County\"] == \"Franklin County\"]\n",
    "franklin = census_df.iloc[622,:]\n",
    "franklin"
   ]
  },
  {
   "cell_type": "code",
   "execution_count": 31,
   "metadata": {},
   "outputs": [
    {
     "data": {
      "text/plain": [
       "Text(0.5, 0, 'Law Enforcement Workers per 1000')"
      ]
     },
     "execution_count": 31,
     "metadata": {},
     "output_type": "execute_result"
    },
    {
     "data": {
      "image/png": "[encoded data removed]",
      "text/plain": [
       "<Figure size 432x288 with 1 Axes>"
      ]
     },
     "metadata": {
      "needs_background": "light"
     },
     "output_type": "display_data"
    }
   ],
   "source": [
    "plt.scatter(x=franklin['Law-Enforcement per 1000'],y=franklin_crime['Total Crimes'])\n",
    "\n",
    "plt.title('Franklin Crimes vs Law-Enforcement Workers')\n",
    "plt.ylabel(\"Total Crimes\")\n",
    "plt.xlabel(\"Law Enforcement Workers per 1000\")"
   ]
  },
  {
   "cell_type": "code",
   "execution_count": null,
   "metadata": {},
   "outputs": [],
   "source": []
  }
 ],
 "metadata": {
  "kernelspec": {
   "display_name": "Python [conda env:pandas] *",
   "language": "python",
   "name": "conda-env-pandas-py"
  },
  "language_info": {
   "codemirror_mode": {
    "name": "ipython",
    "version": 3
   },
   "file_extension": ".py",
   "mimetype": "text/x-python",
   "name": "python",
   "nbconvert_exporter": "python",
   "pygments_lexer": "ipython3",
   "version": "3.6.9"
  }
 },
 "nbformat": 4,
 "nbformat_minor": 2
}
