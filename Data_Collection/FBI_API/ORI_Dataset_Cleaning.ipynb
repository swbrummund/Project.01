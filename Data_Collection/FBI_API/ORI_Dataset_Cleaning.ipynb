{
 "cells": [
  {
   "cell_type": "code",
   "execution_count": 1,
   "metadata": {},
   "outputs": [],
   "source": [
    "import pandas as pd"
   ]
  },
  {
   "cell_type": "code",
   "execution_count": 6,
   "metadata": {},
   "outputs": [
    {
     "data": {
      "text/html": [
       "<div>\n",
       "<style scoped>\n",
       "    .dataframe tbody tr th:only-of-type {\n",
       "        vertical-align: middle;\n",
       "    }\n",
       "\n",
       "    .dataframe tbody tr th {\n",
       "        vertical-align: top;\n",
       "    }\n",
       "\n",
       "    .dataframe thead th {\n",
       "        text-align: right;\n",
       "    }\n",
       "</style>\n",
       "<table border=\"1\" class=\"dataframe\">\n",
       "  <thead>\n",
       "    <tr style=\"text-align: right;\">\n",
       "      <th></th>\n",
       "      <th>Unnamed: 0</th>\n",
       "      <th>State</th>\n",
       "      <th>County</th>\n",
       "      <th>City</th>\n",
       "      <th>Peace Officer Count</th>\n",
       "      <th>Total Crimes</th>\n",
       "      <th>Crimes Cleared</th>\n",
       "    </tr>\n",
       "  </thead>\n",
       "  <tbody>\n",
       "    <tr>\n",
       "      <th>0</th>\n",
       "      <td>0</td>\n",
       "      <td>ILLINOIS</td>\n",
       "      <td>FRANKLIN</td>\n",
       "      <td>BENTON</td>\n",
       "      <td>51</td>\n",
       "      <td>594</td>\n",
       "      <td>0</td>\n",
       "    </tr>\n",
       "    <tr>\n",
       "      <th>1</th>\n",
       "      <td>1</td>\n",
       "      <td>ILLINOIS</td>\n",
       "      <td>FRANKLIN</td>\n",
       "      <td>BUCKNER</td>\n",
       "      <td>3</td>\n",
       "      <td>0</td>\n",
       "      <td>0</td>\n",
       "    </tr>\n",
       "    <tr>\n",
       "      <th>2</th>\n",
       "      <td>2</td>\n",
       "      <td>ILLINOIS</td>\n",
       "      <td>FRANKLIN</td>\n",
       "      <td>CHRISTOPHER</td>\n",
       "      <td>6</td>\n",
       "      <td>40</td>\n",
       "      <td>0</td>\n",
       "    </tr>\n",
       "    <tr>\n",
       "      <th>3</th>\n",
       "      <td>3</td>\n",
       "      <td>ILLINOIS</td>\n",
       "      <td>FRANKLIN</td>\n",
       "      <td>FRANKFORT</td>\n",
       "      <td>20</td>\n",
       "      <td>395</td>\n",
       "      <td>0</td>\n",
       "    </tr>\n",
       "    <tr>\n",
       "      <th>4</th>\n",
       "      <td>4</td>\n",
       "      <td>ILLINOIS</td>\n",
       "      <td>FRANKLIN</td>\n",
       "      <td>ROYALTON</td>\n",
       "      <td>3</td>\n",
       "      <td>22</td>\n",
       "      <td>0</td>\n",
       "    </tr>\n",
       "    <tr>\n",
       "      <th>5</th>\n",
       "      <td>5</td>\n",
       "      <td>ILLINOIS</td>\n",
       "      <td>FRANKLIN</td>\n",
       "      <td>SESSER</td>\n",
       "      <td>5</td>\n",
       "      <td>0</td>\n",
       "      <td>0</td>\n",
       "    </tr>\n",
       "    <tr>\n",
       "      <th>6</th>\n",
       "      <td>6</td>\n",
       "      <td>ILLINOIS</td>\n",
       "      <td>FRANKLIN</td>\n",
       "      <td>VALIER</td>\n",
       "      <td>1</td>\n",
       "      <td>0</td>\n",
       "      <td>0</td>\n",
       "    </tr>\n",
       "    <tr>\n",
       "      <th>7</th>\n",
       "      <td>7</td>\n",
       "      <td>ILLINOIS</td>\n",
       "      <td>FRANKLIN</td>\n",
       "      <td>WEST CITY</td>\n",
       "      <td>8</td>\n",
       "      <td>170</td>\n",
       "      <td>0</td>\n",
       "    </tr>\n",
       "    <tr>\n",
       "      <th>8</th>\n",
       "      <td>8</td>\n",
       "      <td>ILLINOIS</td>\n",
       "      <td>FRANKLIN</td>\n",
       "      <td>ZEIGLER</td>\n",
       "      <td>5</td>\n",
       "      <td>40</td>\n",
       "      <td>0</td>\n",
       "    </tr>\n",
       "  </tbody>\n",
       "</table>\n",
       "</div>"
      ],
      "text/plain": [
       "   Unnamed: 0     State    County         City  Peace Officer Count  \\\n",
       "0           0  ILLINOIS  FRANKLIN       BENTON                   51   \n",
       "1           1  ILLINOIS  FRANKLIN      BUCKNER                    3   \n",
       "2           2  ILLINOIS  FRANKLIN  CHRISTOPHER                    6   \n",
       "3           3  ILLINOIS  FRANKLIN    FRANKFORT                   20   \n",
       "4           4  ILLINOIS  FRANKLIN     ROYALTON                    3   \n",
       "5           5  ILLINOIS  FRANKLIN       SESSER                    5   \n",
       "6           6  ILLINOIS  FRANKLIN       VALIER                    1   \n",
       "7           7  ILLINOIS  FRANKLIN    WEST CITY                    8   \n",
       "8           8  ILLINOIS  FRANKLIN      ZEIGLER                    5   \n",
       "\n",
       "   Total Crimes  Crimes Cleared  \n",
       "0           594               0  \n",
       "1             0               0  \n",
       "2            40               0  \n",
       "3           395               0  \n",
       "4            22               0  \n",
       "5             0               0  \n",
       "6             0               0  \n",
       "7           170               0  \n",
       "8            40               0  "
      ]
     },
     "execution_count": 6,
     "metadata": {},
     "output_type": "execute_result"
    }
   ],
   "source": [
    "file = \"full_df.csv\"\n",
    "\n",
    "sample_crime = pd.read_csv(file)\n",
    "sample_crime"
   ]
  },
  {
   "cell_type": "code",
   "execution_count": 8,
   "metadata": {},
   "outputs": [
    {
     "data": {
      "text/plain": [
       "1261"
      ]
     },
     "execution_count": 8,
     "metadata": {},
     "output_type": "execute_result"
    }
   ],
   "source": [
    "franklin_crimes = sample_crime['Total Crimes'].sum()\n",
    "franklin_crimes"
   ]
  },
  {
   "cell_type": "code",
   "execution_count": 9,
   "metadata": {},
   "outputs": [],
   "source": [
    "franklin_officers = sample_crime['Peace Officer Count'].sum()"
   ]
  },
  {
   "cell_type": "code",
   "execution_count": 14,
   "metadata": {},
   "outputs": [
    {
     "data": {
      "text/html": [
       "<div>\n",
       "<style scoped>\n",
       "    .dataframe tbody tr th:only-of-type {\n",
       "        vertical-align: middle;\n",
       "    }\n",
       "\n",
       "    .dataframe tbody tr th {\n",
       "        vertical-align: top;\n",
       "    }\n",
       "\n",
       "    .dataframe thead th {\n",
       "        text-align: right;\n",
       "    }\n",
       "</style>\n",
       "<table border=\"1\" class=\"dataframe\">\n",
       "  <thead>\n",
       "    <tr style=\"text-align: right;\">\n",
       "      <th></th>\n",
       "      <th>Unnamed: 0</th>\n",
       "      <th>Peace Officer Count</th>\n",
       "      <th>Total Crimes</th>\n",
       "      <th>Crimes Cleared</th>\n",
       "    </tr>\n",
       "    <tr>\n",
       "      <th>County</th>\n",
       "      <th></th>\n",
       "      <th></th>\n",
       "      <th></th>\n",
       "      <th></th>\n",
       "    </tr>\n",
       "  </thead>\n",
       "  <tbody>\n",
       "    <tr>\n",
       "      <th>FRANKLIN</th>\n",
       "      <td>36</td>\n",
       "      <td>102</td>\n",
       "      <td>1261</td>\n",
       "      <td>0</td>\n",
       "    </tr>\n",
       "  </tbody>\n",
       "</table>\n",
       "</div>"
      ],
      "text/plain": [
       "          Unnamed: 0  Peace Officer Count  Total Crimes  Crimes Cleared\n",
       "County                                                                 \n",
       "FRANKLIN          36                  102          1261               0"
      ]
     },
     "execution_count": 14,
     "metadata": {},
     "output_type": "execute_result"
    }
   ],
   "source": [
    "franklin = sample_crime.groupby('County').sum()\n",
    "franklin"
   ]
  },
  {
   "cell_type": "code",
   "execution_count": 15,
   "metadata": {},
   "outputs": [],
   "source": [
    "franklin.to_csv(\"FranklinTestData.csv\")"
   ]
  },
  {
   "cell_type": "code",
   "execution_count": null,
   "metadata": {},
   "outputs": [],
   "source": []
  }
 ],
 "metadata": {
  "kernelspec": {
   "display_name": "Python [conda env:pandas] *",
   "language": "python",
   "name": "conda-env-pandas-py"
  },
  "language_info": {
   "codemirror_mode": {
    "name": "ipython",
    "version": 3
   },
   "file_extension": ".py",
   "mimetype": "text/x-python",
   "name": "python",
   "nbconvert_exporter": "python",
   "pygments_lexer": "ipython3",
   "version": "3.6.9"
  }
 },
 "nbformat": 4,
 "nbformat_minor": 2
}
